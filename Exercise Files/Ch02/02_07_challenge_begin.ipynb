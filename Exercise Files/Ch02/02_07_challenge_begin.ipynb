{
 "cells": [
  {
   "cell_type": "markdown",
   "metadata": {},
   "source": [
    "## 02_07: Olympic medalist challenge"
   ]
  },
  {
   "cell_type": "code",
   "execution_count": 22,
   "metadata": {},
   "outputs": [],
   "source": [
    "import collections"
   ]
  },
  {
   "cell_type": "code",
   "execution_count": 23,
   "metadata": {},
   "outputs": [],
   "source": [
    "Medal = collections.namedtuple('Medal', ['year','athlete','team','event'])\n",
    "medals = [Medal(*line.strip().split('\\t')) for line in open('goldmedals.txt', 'r')]"
   ]
  },
  {
   "cell_type": "code",
   "execution_count": 29,
   "metadata": {},
   "outputs": [],
   "source": [
    "counts = collections.defaultdict(int)\n",
    "athletes = [medal.athlete for medal in medals]\n",
    "for athlete in athletes:\n",
    "    counts[athlete]+=1\n",
    "\n",
    "    "
   ]
  },
  {
   "cell_type": "code",
   "execution_count": 30,
   "metadata": {},
   "outputs": [
    {
     "name": "stdout",
     "output_type": "stream",
     "text": [
      "['Paavo Nurmi', 'Carl Lewis', 'Usain Bolt', 'Ray Ewry']\n"
     ]
    }
   ],
   "source": [
    "i=1\n",
    "top_four=[]\n",
    "while i <5:\n",
    "    max_ath= max(counts, key=counts.get)\n",
    "    top_four.append(max_ath)\n",
    "    counts.pop(max_ath)\n",
    "    i+=1\n",
    "    \n",
    "    \n",
    "print(top_four)\n",
    "    \n",
    "    "
   ]
  },
  {
   "cell_type": "code",
   "execution_count": 25,
   "metadata": {},
   "outputs": [
    {
     "name": "stdout",
     "output_type": "stream",
     "text": [
      "defaultdict(<class 'int'>, {'Thomas Burke': 2, 'Thomas Curtis': 1, 'Edwin Flack': 2, 'Robert Garrett': 2, 'Ellery Clark': 2, 'Spyridon Louis': 1, 'William Welles Hoyt': 1, 'James Connolly': 1, 'Francis Jarvis': 1, 'Alvin Kraenzlein': 4, 'Charles Bennett': 2, 'Walter B. John Tewksbury': 2, 'George Orton': 1, 'John Rimmer': 2, 'Maxwell W.Maxey Long': 1, 'Sidney Robinson': 1, 'Stanley Rowley': 1, 'Alfred Tysoe': 2, 'Rudolf Bauer': 1, 'John Jesus Flanagan': 3, 'Irving Baxter': 2, 'Ray Ewry': 8, 'Michel Theato': 1, 'Richard Sheldon': 1, 'Meyer Prinstein': 3, 'Archie Hahn': 3, 'Frederick Schule': 1, 'James Lightbody': 3, 'Harry Hillman': 3, 'David Curtis Munson': 1, 'Arthur Newton': 1, 'Paul Harry Pilgrim': 1, 'George Underwood': 1, 'Howard Valentine': 1, 'Etienne Desmarteau': 1, 'Thomas Francis Kiely': 1, 'Martin Sheridan': 3, 'Samuel Jones': 1, 'Thomas Hicks': 1, 'Charles Dvorak': 1, 'Ralph Rose': 3, 'Max Emmerich': 1, 'Reginald Walker': 1, 'George Edward Larner': 2, 'Forrest Smithson': 1, 'Melvin Sheppard': 4, 'Robert Kerr': 1, 'Arthur Russell': 1, 'William Coales': 1, 'Joseph Edmund Deakin': 1, 'Arthur James Robertson': 1, 'Wyndham Halswelle': 1, 'Charles Joseph Bacon': 1, 'John Nathaniel Cartmell': 1, 'William Frank Hamilton': 1, 'John Baxter Taylor': 1, 'Emil Robert Voigt': 1, 'Harry Franklin Porter': 1, 'Eric Lemming': 3, 'Francis C. Irons': 1, 'John Joseph Hayes': 1, 'Edward Tiffin Cooke': 1, 'Alfred Carleten Gilbert': 1, 'Timoty J. Ahearne': 1, 'Hannes Kolehmainen': 4, 'George Goulding': 1, 'Ralph Craig': 2, 'Frederick Kelly': 1, 'Arnold Jackson': 1, 'Tell Schirnding Berna': 1, 'George V. Bonhag': 1, 'Abel Kiviat': 1, 'Henry Louis Scott': 1, 'Norman Taber': 1, 'Charles Decker Reidpath': 2, 'William Applegarth': 1, \"Victor Henry Augustus D'arcy\": 1, 'David Henry Jacobs': 1, 'Henry Maitland Mackintosh': 1, 'Edward F. Lindberg': 1, 'James Edwin Meredith': 2, 'Hjalmar Andersson': 1, 'John Eke': 1, 'Josef Ternström': 1, 'Jim Thorpe': 2, 'Hugo K. Wieslander': 1, 'Armas Rudolf Taipale': 2, 'Matthew J. Mcgrath': 1, 'Alma Wilfred Richards': 1, 'Platt Adams': 1, 'Juho Julius Saaristo': 1, 'Albert Lovejoy Gutterson': 1, 'Konstantinos Tsiclitiras': 1, 'Kennedy Kane Mcarthur': 1, 'Ferdinand Reinhardt Bie': 1, 'Harry Stoddard Babcock': 1, 'Patrick Mcdonald': 2, 'Gustav Lindblom': 1, 'Paavo Nurmi': 9, 'Ugo Frigerio': 3, 'Charles Paddock': 2, 'Earl Thomson': 1, 'Albert Hill': 2, 'Allen Woodring': 1, 'Percy Hodge': 1, 'Horace Hallock Brown': 1, 'Ivan Dresser': 1, 'Arlie Alfred Schardt': 1, \"Bevil Gordon D'Urban Rudd\": 1, 'Frank Loomis': 1, 'Morris Kirksey': 1, 'Loren Murchison': 2, 'Jackson Scholz': 2, 'John Creyghton Ainsworth-Davis': 1, 'Guy Montagu Butler': 1, 'Cecil Richmond Griffiths': 1, 'Robert Alexander Lindsay': 1, 'Joseph Guillemot': 1, 'Frederik Teudor Koskenniemi': 1, 'Heikki Liimatainen': 2, 'Helge Andreas Lövland': 1, 'Elmer Konstantin Niklander': 1, 'Patrick Ryan': 1, 'Richmond Landon': 1, 'Jonni Myyrä': 2, 'R. William E. Petersson': 1, 'Eero Reino Lehtonen': 2, 'Frank Foss': 1, 'Frans Wilhelmi Pörhölä': 1, 'Vilho Immanuel Tuulos': 1, 'Ville Ritola': 5, 'Harold Abrahams': 1, 'Daniel Kinsey': 1, 'Elias Katz': 1, 'Frej Liewendhal': 1, 'Eino Seppälä': 1, 'S. Talja': 1, 'Eric Henry Liddell': 1, 'Frederick Morgan Taylor': 1, 'Louis Alfred Clarke': 1, 'Francis Hussey': 1, 'Jeremiah Alfred Leconey': 1, 'Commodore Cochrane': 1, 'Alan Helffrich': 1, 'J. Oliver Macdonald': 1, 'William Stephenson': 1, 'Douglas Gordon Lowe': 2, 'Eero Berg': 1, 'Eino Rastas': 1, 'Väinö Jeremias Sipilä': 1, 'Harold Marion Osborn': 2, 'Lemuel Clarence Houser': 3, 'Frederick Delmont Tootell': 1, 'William De Hart Hubbard': 1, 'Albin Oskar Stenroos': 1, 'Lee Barnes': 1, 'Anthony William Winter': 1, 'Percy Williams': 2, 'Elizabeth Robinson': 2, 'Sidney Atkinson': 1, 'Harri Edvin Larva': 1, 'Toivo Aarne Loukola': 1, 'Raymond James Barbuti': 2, 'David George Burghley': 1, 'Charles Edward Borah': 1, 'James F. Quinn': 1, 'Henry Argue Russell': 1, 'Frank Clifford Wykoff': 3, 'Myrtle Alice Cook': 1, 'Fanny Rosenfeld': 1, 'Ethel M. Smith': 1, 'Jean Thompson': 1, 'Frederick Pitt Alderman': 1, 'George Hetzel Baird': 1, 'Emerson Lane Spencer': 1, 'Karoline \"Lina\" Radke': 1, 'Paavo Ilmari Yrjölä': 1, 'Halina Konopacka': 1, \"Patrick O'callaghan\": 2, 'Robert Wade King': 1, 'Ethel Catherwood': 1, 'Erik H. Lundqvist': 1, 'Edward Barton Hamm': 1, 'Boughera Mohamed El Ouafi': 1, 'Sabin William Carr': 1, 'John H. Kuck': 1, 'Mikio Oda': 1, 'Janusz Kusocinski': 1, 'Eddie Tolan': 2, 'Stanislawa Walasiewicz': 1, 'George J. Jr. Saling': 1, 'Luigi Beccali': 1, 'Volmari Iso-Hollo': 2, 'William Arthur Carr': 2, 'Robert Morton Newburgh Tisdall': 1, 'Hector Monroe Dyer': 1, 'Robert Allan Kiesel': 1, 'Martin Emmett Toppino': 1, 'Mary Louise Carew': 1, 'Evelyn Furtsch': 1, 'Annette Joan Rogers': 2, 'Wilhelmina Von bremen': 1, 'Edgar Allen Ablowich': 1, 'Ivan William Fuqua': 1, 'Karl De Witt Warner': 1, 'Lauri Aleksanteri Lehtinen': 1, 'Thomas William Green': 1, 'Thomas Hampson': 1, 'Mildred Didrikson': 2, 'James Aloysius Bernard Bausch': 1, 'John Franklin Anderson': 1, 'Lillian Copeland': 1, 'Duncan Mcnaughton': 1, 'Jean Shiley': 1, 'Matti Henrik Jarvinen': 1, 'Edward Lansing Gordon': 1, 'Juan Carlos Zabala': 1, 'William Waring Miller': 1, 'Leo Joseph Sexton': 1, 'Chuhei Nambu': 1, 'Ilmari Salminen': 1, 'Jesse Owens': 4, 'Helen Herring Stephens': 2, 'Forrest Grady Towns': 1, 'John Lovelock': 1, 'Archibald Franklin Williams': 1, 'Glenn Foster Hardin': 1, 'Foy Draper': 1, 'Ralph Metcalfe': 1, 'Harriett Claiborne Bland': 1, 'Arthur Godfrey Kilner Brown': 1, 'Godfrey Lionel Rampling': 1, 'William Roberts': 1, 'Frederick Ferdinand Wolff': 1, 'Gunnar Höckert': 1, 'Hector Harold Whitlock': 1, 'John Youie Woodruff': 1, 'Trebisonda Valla': 1, 'Glenn Edward Morris': 1, 'William Kenneth Carpenter': 1, 'Gisela Mauermayer': 1, 'Karl Hein': 1, 'Cornelius Cooper Johnson': 1, 'Ibolya Csak': 1, 'Gerhard (Gerd) Stöck': 1, 'Mathilde (Tilly) Fleischer': 1, 'Kitei Son': 1, 'Earle Elmer Meadows': 1, 'Hans Woellke': 1, 'Naoto Tajima': 1, 'Emil Zatopek': 4, 'John Mikaelsson': 2, 'Harrison Dillard': 4, 'Fanny Blankers-Koen': 4, 'William Franklin III Porter': 1, 'Henry Eriksson': 1, 'Melvin Emery Patton': 2, 'Tore Sjöstrand': 1, 'Arthur Wint': 2, 'Roy Braxton Cochran': 2, 'Harold Norwood Ewell': 1, 'Lorenzo Christopher Wright': 1, 'Xenia Stad-De jong': 1, 'Gerda Johanna Marie Van der kade-Koudijs': 1, 'Jeannette Josephina Maria Witziers-Timmer': 1, 'Clifford Frederick Bourland': 1, 'Arthur Harold Harnden': 1, 'Malvin Groston Whitfield': 3, 'Gaston Etienne Reiff': 1, 'John Artur Ljunggren': 1, 'Robert Mathias': 2, 'Adolfo Consolini': 1, 'Micheline Ostermeyer': 2, 'Imre Nemeth': 1, 'John Winter': 1, 'Alice Marie Coachman': 1, 'Kaj Tapio Rautavaara': 1, 'Hermine (Herma) Bauma': 1, 'William Samuel Steele': 1, 'Olga Gyarmati': 1, 'Delfo Cabrera': 1, 'Owen Guinn Smith': 1, 'Wilbur Marvin Thompson': 1, 'Arne Ahman': 1, 'Lindy Remigino': 2, 'Marjorie Jackson': 2, 'Joseph Barthel': 1, 'Andrew William Stanfield': 2, 'Horace III Ashenfelter': 1, 'Vincent George Rhoden': 2, 'Charles Hewes Jr. Moore': 1, 'Finis Dean Smith': 1, 'Mae Heriwentha Faggs': 1, 'Catherine Hardy': 1, 'Barbara Pearl Jones': 2, 'Janet Theresa Moreau': 1, 'Leslie Laing': 1, 'Herbert Mckenley': 1, 'Giuseppe Dordoni': 1, 'Shirley Strickland-De La Hunty': 3, 'Simeon Garland Iness': 1, 'Nina Romashkova-Ponomareva': 2, 'Jozsef Csermak': 1, 'Walter Francis Davis': 1, 'Esther Cornelia Brand': 1, 'Cyrus C. Jr. Young': 1, 'Dana Ingrova-Zatopkova': 1, 'Jerome Cousins Biffle': 1, 'Yvette Winefred Williams': 1, 'Robert Richards': 2, 'William Patrick Jr. O': 2, 'Galina Zybina': 1, 'Adhemar Ferreira Da Silva': 2, 'Vladimir Kuts': 2, 'Robert Joseph Morrow': 3, 'Betty Cuthbert': 4, 'Lee Calhoun': 2, 'Ronald Michael Delany': 1, 'Leonid Spirin': 1, 'Christopher William Brasher': 1, 'Charles Lamont Jenkins': 2, 'Glenn Ashby Davis': 3, 'Walter Thane Baker': 1, 'Leamon King': 1, 'Ira James Murchison': 1, 'Norma Wilson Crooker-Fleming': 1, 'Fluer Northey Mellor-Wenham': 1, 'Thomas William Courtney': 2, 'Louis Woodard III Jones': 1, 'Jesse William Mashburn': 1, 'Norman Richard Read': 1, 'Milton Gray Campbell': 1, 'Alfred Oerter': 4, 'Olga Fikotova-Connolly': 1, 'Harold Vincent Connolly': 1, 'Charles Everett Dumas': 1, 'Mildred Louise Mcdaniel': 1, 'Egil Danielsen': 1, 'Inese Yaunzeme': 1, 'Gregory Curtis Bell': 1, 'Elzbieta Dunska-Krzesinska': 1, 'Alain Mimoun': 1, 'Tamara Tyshkevich': 1, 'Pyotr Bolotnikov': 1, 'Armin Hary': 2, 'Wilma Rudolph': 3, 'Herbert Elliott': 1, 'Livio Berruti': 1, 'Vladimir Golubnichy': 2, 'Zdzislaw Krzyszkowiak': 1, 'Otis Crandall Davis': 2, 'Bernd Cullmann': 1, 'Martin Lauer': 1, 'Walter Mahlendorf': 1, 'Martha B. Hudson': 1, 'Lucinda Williams': 1, 'John Lloyd Yerman': 1, 'Earl Verdelle Young': 1, 'Murray Gordon Halberg': 1, 'Donald James Thompson': 1, 'Peter Snell': 3, 'Lyudmila Lisenko-Shevtsova': 1, 'Iryna Press': 2, 'Rafer Lewis Johnson': 1, 'Vasili Rudenkov': 1, 'Robert Shavlakadze': 1, 'Iolanda Balas': 2, 'Viktor Tsybulenko': 1, 'Elvira Ozolina': 1, 'Ralph Harold Boston': 1, 'Vera Kolashnikova-Krepkina': 1, 'Abebe Bikila': 2, 'Donald George Bragg': 1, 'William Henry Nieder': 1, 'Tamara Press': 3, 'Jozef Schmidt': 2, 'William Mills': 1, 'Robert Hayes': 2, 'Wyomia Tyus': 3, 'Hayes Jones': 1, 'Henry Carr': 2, 'Edith Marie Mcguire': 1, 'Kenneth Joseph Matthews': 1, 'Gaston Roelants': 1, 'Michael Denny Larrabee': 2, 'Warren (Rex) Jay Cawley': 1, 'Gerald Howard Ashworth': 1, 'Otis Paul Drayton': 1, 'Richard Vaughn Stebbins': 1, 'Halina Herrmann-Gorecka-Richter': 1, 'Ewa Klobukowska': 1, 'Irena Szewinska': 3, 'Teresa Barbara Wieczorek-Cieply': 1, 'Ollan Conley Cassell': 1, 'Ulis C. Williams': 1, 'Robert Keyser Schul': 1, 'Abdon Pamich': 1, 'Ann Elizabeth Packer': 1, 'Karin Richert-Balzer': 1, 'Willi Holdorf': 1, 'Romuald Klim': 1, 'Valeri Brumel': 1, 'Pauli Lauri Nevala': 1, 'Mihaela Penes': 1, 'Lynn Davies': 1, 'Mary Denise Bignal-Rand': 1, 'Frederick Morgan Hansen': 1, 'Dallas Crutcher III Long': 1, 'Nabiba Naftali Temu': 1, 'James Ray Hines': 2, 'Willie Davenport': 1, 'Kipchoge Keino': 2, 'Thomas C. Smith': 1, 'Amos Kipwabok Biwott': 1, 'Lee Edward Evans': 2, 'Colette Besson': 1, 'David Peter Hemery': 1, 'Charles Edward Greene': 1, 'Melvin Jr. Pender': 1, 'Ronald Ray Smith': 1, 'Margaret Johnson Bailes': 1, 'Barbara Ann Ferrell': 1, 'Mildrette Netter': 1, 'Ronald John III Freeman': 1, 'George Lawrence James': 1, 'Vincent Edward Matthews': 2, 'Mohamed Gammoudi': 1, 'Christoph Höhne': 1, 'Ralph Doubell': 1, 'Madeline Manning-Jackson': 1, 'Maureen Caird': 1, 'William Anthony Toomey': 1, 'Lia Manoliu': 1, 'Gyula Zsivotzky': 1, 'Richard Douglas Fosbury': 1, 'Miloslava Rezkova-Hubner': 1, 'Yanis Lusis': 1, 'Angela Nemeth-Ranky': 1, 'Bob Beamon': 1, 'Viorica Viscopoleanu': 1, 'Mamo Wolde': 1, 'Ingrid Becker-Mickler': 2, 'Robert Lloyd Seagren': 1, 'James Randel Matson': 1, 'Margitta Helmbold-Gummel': 1, 'Viktor Saneev': 3, 'Lasse Viren': 4, 'Valery Borzov': 2, 'Renate Stecher': 3, 'Annelie Ehrhardt': 1, 'Rodney Jr. Milburn': 1, 'Pekka Vasala': 1, 'Lyudmila Bragina': 1, 'Peter Frenkel': 1, 'Monika Zehrt': 2, 'John Akii-Bua': 1, 'Lawrence J. Black': 1, 'Edward James Hart': 1, 'Robert Taylor': 1, 'Gerald A. Tinker': 1, 'Christiane Krause': 1, 'Annegret Richter-Irrgang': 2, 'Heidemarie Rosendahl': 2, 'Charles Asati': 1, 'Hezekiah Munyoro Nyamau': 1, 'Robert Ouko': 1, 'Julius Sang': 1, 'Dagmar Käsling': 1, 'Rita Kühne': 1, 'Helga Seidler': 1, 'Bernd Kannenberg': 1, 'David James Wottle': 1, 'Hildegard Falck-Janze': 1, 'Nikolai Avilov': 1, 'Ludvik Danek': 1, 'Faina Melnik': 1, 'Anatoli Bondarchuk': 1, 'Yuri Tarmak': 1, 'Ulrike Meyfarth': 2, 'Klaus Wolfermann': 1, 'Ruth Fuchs': 2, 'Randel Luvelle Williams': 1, 'Frank Charles Shorter': 1, 'Mary Peters': 1, 'Wolfgang Nordwig': 1, 'Wladyslaw Komar': 1, 'Nadezhda Chizhova': 1, 'Hasely Crawford': 1, 'Johanna Schaller-Klier': 1, 'Guy Drut': 1, 'John Walker': 1, 'Tatiana Kazankina': 3, 'Donald Quarrie': 1, 'Bärbel Eckert-Wöckel': 4, 'Daniel Bautista rocha': 1, 'Anders Garderud': 1, 'Alberto Juantorena': 2, 'Edwin Moses': 2, 'Harvey Edward Glance': 1, 'Millard Frank Jr. Hampton': 1, 'John Wesley Jones': 1, 'Steven Earl Riddick': 1, 'Carla Bodendorf': 1, 'Marlies Oelsner-Göhr': 2, 'Benjamin Gene Brown': 1, 'Herman Ronald Frazier': 1, 'Frederick Vaughn Newhouse': 1, 'Maxwell Lander Parks': 1, 'Christina Brehmer-Lathan': 1, 'Doris Maletzki': 1, 'Brigitte Rohde': 1, 'Ellen Stropahl-Streidt': 1, 'William Bruce Jenner': 1, 'Malcolm Maurice Wilkins': 1, 'Evelin Schlaak-Jahl': 2, 'Yuri Sedykh': 2, 'Jacek Wszola': 1, 'Rosemarie Witschas-Ackermann': 1, 'Miklos Nemeth': 1, 'Arnie Robinson': 1, 'Angela Voigt': 1, 'Waldemar Cierpinski': 2, 'Siegrun Siegl': 1, 'Tadeusz Slusarski': 1, 'Udo Beyer': 1, 'Ivanka Mikailova Christova-Todorova': 1, 'Miruts Yifter': 2, 'Allan Wells': 1, 'Liudmila Kondratieva': 1, 'Vera Komisova': 1, 'Thomas Munkelt': 1, 'Sebastian Coe': 2, 'Pietro Mennea': 1, 'Maurizio Damilano': 1, 'Bronislaw Malinowski': 1, 'Viktor Markin': 2, 'Marita Koch': 1, 'Volker Beck': 1, 'Aleksandr Aksinin': 1, 'Vladimir Muravyov': 2, 'Andrei Prokofiev': 1, 'Nikolai Sidorov': 1, 'Ingrid Auerswald-Lange': 1, 'Romy Müller': 1, 'Nikolai Chernetski': 1, 'Mikhail Linge': 1, 'Remigius Valiulis': 1, 'Tatiana Goishchik': 1, 'Irina Nazarova': 1, 'Tatiana Prorochenko': 1, 'Nina Ziuskova': 1, 'Hartwig Gauder': 1, 'Steve Ovett': 1, 'Nadezhda Olizarenko': 1, 'Daley Thompson': 2, 'Viktor Rashchupkin': 1, 'Gerd Wessig': 1, 'Sara Simeoni': 1, 'Dainis Kula': 1, 'Maria Colon': 1, 'Lutz Dombrowski': 1, 'Tatiana Kolpakova': 1, 'Nadezhda Tkachenko': 1, 'Wladyslaw Kozakiewicz': 1, 'Vladimir Kiselev': 1, 'Ilona Schoknecht-Slupianek': 1, 'Yaak Uudmae': 1, 'Alberto Cova': 1, 'Carl Lewis': 9, 'Evelyn Ashford': 4, 'Benita Fitzgerald-Brown': 1, 'Roger Kingdom': 2, 'Gabriella Dorio': 1, 'Valerie Ann Brisco-Hooks': 3, 'Ernesto Canto gudino': 1, 'Maricica Puica': 1, 'Julius Korir': 1, 'Alonzo C. Babers': 2, 'Nawal El moutawakel': 1, 'Ronald James Brown': 1, 'Samuel Louis Graddy': 1, 'Calvin Smith': 1, 'Jeanette Bolden': 1, 'Alice Regina Brown': 2, 'Chandra Danette Cheeseborough': 2, 'Raymond Armstead': 1, 'Antonio Ricardo Mckay': 1, 'Sunder L. Nix': 1, 'Sherryl Frances Howard': 1, 'Lillie Mae Leatherwood-King': 1, 'Said Aouita': 1, 'Raul Gonzalez': 1, 'Joaquim Cruz': 1, 'Doina Besliu-Melinte': 1, 'Rolf Danneberg': 1, 'Ria G. Stalman': 1, 'Juha Tiainen': 1, 'Glyniss Leanne Nunn-Saunders-Cearns': 1, 'Dietmar Mögenburg': 1, 'Arto Harkonen': 1, 'Teresa Sanderson': 1, 'Anisoara Cusmir-Stanciu': 1, 'Carlos Lopes': 1, 'Joan Benoit': 1, 'Pierre Quinon': 1, 'Alessandro Andrei': 1, 'Claudia Losch': 1, 'Alfredrick Alphonzo Joyner': 1, 'Moulay Brahim Boutayeb': 1, 'Olga Bondarenko': 1, 'Florence Griffith-Joyner': 3, 'Yordanka Donkova': 1, 'Peter Rono': 1, 'Paula Ivan': 1, 'Joseph Nathaniel Jr. Deloach': 1, 'Jozef Pribilinec': 1, 'Tatyana Samolenko-Dorovskikh': 1, 'Julius Kariuki': 1, 'Steve Lewis': 3, 'Olga Bryzgina': 3, 'Andre Lamar Phillips': 1, 'Deborah Flintoff-King': 1, 'Viktor Bryzgin': 1, 'Vladimir Krylov': 1, 'Vitaly Savin': 1, 'Sheila Echols': 1, 'Daniel Everett': 1, 'Harry Butch . Reynolds': 1, 'Kevin Bernard Robinzine': 1, 'Tatiana Ledovskaya': 1, 'Olga Nazarova': 2, 'Mariya Pinigina': 1, 'John Ngugi': 1, 'Vyacheslav Ivanenko': 1, 'Paul Ereng': 1, 'Sigrun Wodars': 1, 'Christian Schenk': 1, 'Jürgen Schult': 1, 'Martina Hellmann': 1, 'Sergei Litvinov': 1, 'Jackie Joyner-Kersee': 3, 'Gennadi Avdeenko': 1, 'Dorothy Louise Ritter': 1, 'Tapio Korjus': 1, 'Petra Felke-Meier': 1, 'Gelindo Bordin': 1, 'Rosa Mota': 1, 'Sergey Bubka': 1, 'Ulf Timmermann': 1, 'Natalya Lisovskaya': 1, 'Kristo Gantchev Markov': 1, 'Khalid Skah': 1, 'Derartu Tulu': 2, 'Yueling Chen': 1, 'Linford Christie': 1, 'Gail Devers': 3, 'Paraskevi Voula Patoulidou': 1, 'Mark Mckoy': 1, 'Fermin Cacho ruiz': 1, 'Hassiba Boulmerka': 1, 'Michael Marsh': 2, 'Gwen Torrence': 3, 'Daniel Plaza montero': 1, 'Elena Romanova': 1, 'Mathew Birir': 1, 'Quincy Watts': 2, 'Marie-Jose Perec': 3, 'Kevin Curtis Young': 1, 'Sally Janet Jane Gunnell': 1, 'Leroy Burrell': 1, 'James Jett': 1, 'Dennis Mitchell': 1, 'Michelle Finn': 1, 'Carlette D. Guidry-White': 2, 'Esther Jones': 1, 'Darnell Hall': 1, 'Charles L. Jenkins': 1, 'Michael Johnson': 4, 'Andrew Valmon': 1, 'Marina Chmonina': 1, 'Lioudmila Djigalova': 1, 'Lilia Nurutdinova': 1, 'Yelena Rouzina': 1, 'Dieter Baumann': 1, 'Andrey Perlov': 1, 'William Tanui': 1, 'Ellen Van langen': 1, 'Robert Zmelik': 1, 'Romas Ubartas': 1, 'Maritza Marten': 1, 'Andrey Abduvaliev': 1, 'Javier Sotomayor': 1, 'Heike Henkel': 1, 'Jan Zelezny': 3, 'Silke Renk': 1, 'Heike Drechsler': 2, 'Young-Cho Hwang': 1, 'Valentina Yegorova': 1, 'Maksim Tarasov': 1, 'Michael D. Stulce': 1, 'Svetlana Krivelyova': 1, 'Mike Conley': 1, 'Haile Gebrselassie': 2, 'Fernanda Ribeiro': 1, 'Yelena Nikolayeva': 1, 'Donovan Bailey': 2, 'Ludmila Engquist': 1, 'Allen Johnson': 1, 'Nourredine Morceli': 1, 'Svetlana Masterkova': 2, 'Jefferson Perez': 1, 'Joseph Keter': 1, 'Derrick Adkins': 1, 'Deon Marie Hemmings': 1, 'Carlton Chambers': 1, 'Robert Esmie': 1, 'Glenroy Gilbert': 1, 'Bruny Surin': 1, 'Chryste Gaines': 1, 'Inger Miller': 1, 'Alvin Harrison': 1, 'Anthuan Maybank': 1, 'Derek Mills': 1, 'Jason Rouser': 1, 'Lamont Smith': 1, 'Kim Graham': 1, 'Maicel Malone': 1, 'Jearl Miles': 2, 'Rochelle Stevens': 1, 'Linetta Wilson': 1, 'Venuste Niyongabo': 1, 'Junxia Wang': 1, 'Robert Korzeniowski': 4, 'Vebjorn Rodal': 1, \"Dan O'brien\": 1, 'Lars Riedel': 1, 'Ilke Wyludda': 1, 'Balazs Kiss': 1, 'Ghada Shouaa': 1, 'Charles Austin': 1, 'Stefka Kostadinova': 1, 'Heli Orvokki Rantanen': 1, 'Chioma Ajunwa': 1, 'Josia Thugwane': 1, 'Fatuma Roba': 1, 'Jean Galfione': 1, 'Eric Randolph Barnes': 1, 'Astrid Kumbernuss': 1, 'Kenny Harrison': 1, 'Inessa Kravets': 1, 'Maurice Greene': 2, 'Olga Shishigina': 1, 'Anier Garcia': 1, 'Noah Kiprono Ngenyi': 1, 'Nouria Merah-Benida': 1, 'Konstantinos Kenteris': 1, 'Pauline Elaine Davis': 2, 'Liping Wang': 1, 'Reuben Kosgei': 1, 'Cathy Freeman': 1, 'Angelo Taylor': 3, 'Irina Privalova': 1, 'Kenneth Brokenburr': 1, 'Jon Drummond': 1, 'Brian Lewis': 1, 'Tim Montgomery': 1, 'Bernard Williams iii': 1, 'Debbie Ferguson-Mckenzie': 1, 'Sevatheda Fynes': 1, 'Eldice Lewis': 1, 'Chandra Sturrup': 1, 'Andrea Anderson': 1, 'LaTasha Colander': 1, 'Monique Hennagan': 2, 'Millon Wolde': 1, 'Gabriela Szabo': 1, 'Nils Schumann': 1, 'Maria Mutola': 1, 'Erki Nool': 1, 'Virgilijus Alekna': 2, 'Ellina Zvereva': 1, 'Szymon Ziolkowski': 1, 'Kamila Skolimowska': 1, 'Denise Lewis': 1, 'Sergey Kliugin': 1, 'Yelena Yelesina': 1, 'Trine Hattestad': 1, 'Ivan Pedroso': 1, 'Gezahegne Abera': 1, 'Naoko Takahashi': 1, 'Nick Hysong': 1, 'Stacy Dragila': 1, 'Arsi Harju': 1, 'Yanina Karolchik': 1, 'Jonathan David Edwards': 1, 'Tereza Marinova': 1, 'Kenenisa Bekele': 3, 'Huina Xing': 1, 'Justin Gatlin': 1, 'Yuliya Nesterenko': 1, 'Joanna Hayes': 1, 'Xiang Liu': 1, 'Hicham El guerrouj': 2, 'Kelly Holmes': 2, 'Shawn Crawford': 1, 'Veronica Campbell-Brown': 3, 'Athanasia Tsoumeleka': 1, 'Ivano Brugnetti': 1, 'Ezekiel Kemboi': 2, 'Jeremy Wariner': 3, 'Tonique Williams-Darling': 1, 'Felix Sanchez': 2, 'Fani Chalkia': 1, 'Darren Campbell': 1, 'Marlon Devonish': 1, 'Jason Gardener': 1, 'Mark Lewis-Francis': 1, 'Aleen Bailey': 1, 'Tanya Lawrence': 1, 'Beverly Mcdonald': 1, 'Sherone Simpson': 1, 'Derrick Brew': 1, 'Otis Harris': 1, 'Darold Williamson': 1, 'Kelly Willie': 1, 'Crystal Cox': 1, 'Monique Henderson': 2, 'Sanya Richards': 2, 'Moushaumi Robinson': 1, 'Deedee Trotter': 1, 'Meseret Defar': 2, 'Yuriy Borzakovskiy': 1, 'Roman Sebrle': 1, 'Natalya Sadova': 1, 'Koji Murofushi': 1, 'Olga Kuzenkova': 1, 'Carolina Kluft': 1, 'Stefan Holm': 1, 'Elena Slesarenko': 1, 'Andreas Thorkildsen': 2, 'Osleidys Menendez': 1, 'Dwight Phillips': 1, 'Tatyana Lebedeva': 1, 'Stefano Baldini': 1, 'Mizuki Noguchi': 1, 'Timothy Mack': 1, 'Elena Isinbaeva': 2, 'Yuriy Bilonog': 1, 'Yumileidi Cumba': 1, 'Christian Olsson': 1, 'Francoise Mbango etone': 2, 'Tirunesh Dibaba': 3, 'Usain Bolt': 9, 'Shelly-Ann Fraser': 1, 'Dawn Harper': 1, 'Dayron Robles': 1, 'Asbel Kipruto Kiprop': 1, 'Nancy jebet Langat': 1, 'Olga Kaniskina': 1, 'Valeriy Borchin': 1, 'Brimin Kiprop Kipruto': 1, 'Gulnara Galkina-Samitova': 1, 'LaShawn Merritt': 2, 'Christine Ohuruogu': 1, 'Melaine Walker': 1, 'Nesta Carter': 2, 'Michael Frater': 2, 'Asafa Powell': 2, 'Yuliya Chermoshanskaya': 1, 'Aleksandra Fedoriva': 1, 'Yulia Gushchina': 1, 'Evgeniya Polyakova': 1, 'David Neville': 1, 'Allyson Felix': 6, 'Mary Wineberg': 1, 'Alex Schwazer': 1, 'Wilfred Bungei': 1, 'Pamela Jelimo': 1, 'Bryan Clay': 1, 'Gerd Kanter': 1, 'Stephanie Brown trafton': 1, 'Primoz Kozmus': 1, 'Aksana Miankova': 1, 'Nataliia Dobrynska': 1, 'Andrey Silnov': 1, 'Tia Hellebaut': 1, 'Barbora Spotakova': 2, 'Irving Jahir Saladino aranda': 1, 'Maurren Higa Maggi': 1, 'Samuel Kamau Wansiru': 1, 'Constantina Tomescu': 1, 'Steve Hooker': 1, 'Tomasz Majewski': 2, 'Valerie Vili': 1, 'Nelson Evora': 1, 'Sanya Richards-Ross': 2, 'Mo Farah': 2, 'Shelly-Ann Fraser-Pryce': 1, 'Yohan Blake': 2, 'Carmelita Jeter': 1, 'Natalya Antyukh': 1, 'DeeDee Trotter': 1, 'Yuliya Zaripova': 1, 'Ivan Ukhov': 1, 'Anna Chicherova': 1, 'Tatyana Lysenko': 1, 'Sergey Kirdyapkin': 1, 'Elena Lashmanova': 1, 'Mariya Savinova': 1, 'Valerie Adams': 1, 'David Lekuta Rudisha': 2, 'Olga Rypakova': 1, 'Robert Harting': 1, 'Krisztian Pars': 1, 'Kirani James': 1, 'Jessica Ennis': 1, 'Kemar Bailey-Cole': 2, 'Tiki Gelana': 1, 'Alistair Brownlee': 2, 'Greg Rutherford': 1, 'Renaud Lavillenie': 1, 'Sally Pearson': 1, 'Taoufik Makhloufi': 1, 'Ding Chen': 1, 'Sandra Perkovic': 2, 'Chris Brown': 1, 'Michael Mathieu': 1, 'Ramon Miller': 1, 'Demetrius Pinder': 1, 'Lauryn Williams': 1, 'Jennifer Suhr': 1, 'Ashton Eaton': 2, 'Keshia Baker': 1, 'Diamond Dixon': 1, 'Brittney Reese': 1, 'Keshorn Walcott': 1, 'Stephen Kiprotich': 1, 'Alptekin Asli Cakir': 1, 'Nicola Spirig': 1, 'Christian Taylor': 2, 'Bianca Knight': 1, 'Aries Merritt': 1, 'Jeneba Tarmoh': 1, 'Tianna Madison': 1, 'Francena McCorory': 1, 'Elaine Thompson': 2, 'Tianna Bartoletta': 2, 'Mohamed Farah': 2, 'Tori Bowie': 1, 'Vivian Jepkemoi Cheruiyot': 1, 'Almaz Ayana': 1, 'Lashawn Merritt': 1, 'Morolake Akinosun': 1, 'Nickel Ashmeade': 1, 'Ruth Beitia': 1, 'Michelle Carter': 1, 'Matthew Centrowitz': 1, 'Kerron Clement': 1, 'Kyle Clemons': 1, 'Ryan Crouser': 1, 'Thiago Braz Da Silva': 1, 'Derek Drouin': 1, 'Taylor Ellis-Watson': 1, 'Phyllis Francis': 1, 'English Gardner': 1, 'Arman Hall': 1, 'Christoph Harting': 1, 'Natasha Hastings': 1, 'Jeff Henderson': 1, 'Caterine Ibarguen': 1, 'Ruth Jebet': 1, 'Gwen Jorgensen': 1, 'Eliud Kipchoge': 1, 'Conseslus Kipruto': 1, 'Faith Chepngetich Kipyegon': 1, 'Sara Kolak': 1, 'Hong Liu': 1, 'Francena Mccorory': 1, 'Omar Mcleod': 1, 'Tony Mcquay': 1, 'Shaunae Miller': 1, 'Jevaughn Minzie': 1, 'Dalilah Muhammad': 1, 'Dilshod Nazarov': 1, 'Courtney Okolo': 1, 'Jenna Prandini': 1, 'Gil Roberts': 1, 'Thomas Rohler': 1, 'Brianna Rollins': 1, 'Caster Semenya': 1, 'Ekaterini Stefanidi': 1, 'Jemima Jelagat Sumgong': 1, 'Nafissatou Thiam': 1, 'Matej Toth': 1, 'Wayde Van Niekerk': 1, 'David Verburg': 1, 'Zhen Wang': 1, 'Ariana Washington': 1, 'Anita Wlodarczyk': 1})\n"
     ]
    }
   ],
   "source": [
    "    print(counts)\n"
   ]
  },
  {
   "cell_type": "code",
   "execution_count": 40,
   "metadata": {},
   "outputs": [],
   "source": [
    "event_athlete=collections.defaultdict(list)\n",
    "for medal in medals:\n",
    "    event_athlete[medal.athlete]+=[medal.event]\n",
    "\n"
   ]
  },
  {
   "cell_type": "code",
   "execution_count": 44,
   "metadata": {},
   "outputs": [
    {
     "name": "stdout",
     "output_type": "stream",
     "text": [
      "['Alvin Kraenzlein', 'Hannes Kolehmainen', 'Paavo Nurmi', 'Ville Ritola', 'Jesse Owens', 'Fanny Blankers-Koen', 'Betty Cuthbert', 'Carl Lewis', 'Usain Bolt', 'Allyson Felix']\n"
     ]
    }
   ],
   "source": [
    "different_events_top=[]\n",
    "max=3\n",
    "for athlete, events in event_athlete.items():\n",
    "    if len(set(events))>max:\n",
    "        different_events_top.append(athlete)\n",
    "        \n",
    "print(different_events_top)        \n",
    "    \n"
   ]
  },
  {
   "cell_type": "code",
   "execution_count": 5,
   "metadata": {},
   "outputs": [],
   "source": [
    "#solution_given\n",
    "import collections\n",
    "Medal = collections.namedtuple('Medal', ['year','athlete','team','event'])\n",
    "medals = [Medal(*line.strip().split('\\t')) for line in open('goldmedals.txt', 'r')]\n",
    "medals_by_athlete = collections.Counter(medal.athlete for medal in medals)"
   ]
  },
  {
   "cell_type": "code",
   "execution_count": null,
   "metadata": {},
   "outputs": [],
   "source": [
    "events_by_athlete = collections.defaultdict(set)\n",
    "for medal in medals:\n",
    "    events_by_athlete[medal.athlete].add(medal.event)"
   ]
  },
  {
   "cell_type": "code",
   "execution_count": null,
   "metadata": {},
   "outputs": [],
   "source": [
    "{athlete: events for athlete, events in events_by_athlete.items() if len(events)>= 4}"
   ]
  },
  {
   "cell_type": "code",
   "execution_count": 10,
   "metadata": {},
   "outputs": [],
   "source": [
    "def normalize(event):\n",
    "    return ' '.join(word for word in event.split() if word not in ['men','women'])"
   ]
  },
  {
   "cell_type": "code",
   "execution_count": 11,
   "metadata": {},
   "outputs": [
    {
     "data": {
      "text/plain": [
       "'4X400m relay'"
      ]
     },
     "execution_count": 11,
     "metadata": {},
     "output_type": "execute_result"
    }
   ],
   "source": [
    "normalize('4X400m relay women')"
   ]
  },
  {
   "cell_type": "code",
   "execution_count": 12,
   "metadata": {},
   "outputs": [],
   "source": [
    "events_by_athlete = collections.defaultdict(set)"
   ]
  },
  {
   "cell_type": "code",
   "execution_count": 13,
   "metadata": {},
   "outputs": [
    {
     "data": {
      "text/plain": [
       "{'Alvin Kraenzlein': {'110m hurdles', '200m hurdles', '60m', 'long jump'},\n",
       " 'Hannes Kolehmainen': {'10000m',\n",
       "  '5000m',\n",
       "  'cross country individual',\n",
       "  'marathon'},\n",
       " 'Paavo Nurmi': {'10000m',\n",
       "  '1500m',\n",
       "  '3000m team',\n",
       "  '5000m',\n",
       "  'cross country individual',\n",
       "  'cross country team'},\n",
       " 'Ville Ritola': {'10000m',\n",
       "  '3000m steeplechase',\n",
       "  '3000m team',\n",
       "  '5000m',\n",
       "  'cross country team'},\n",
       " 'Jesse Owens': {'100m', '200m', '4x100m relay', 'long jump'},\n",
       " 'Fanny Blankers-Koen': {'100m', '200m', '4x100m relay', '80m hurdles'},\n",
       " 'Betty Cuthbert': {'100m', '200m', '400m', '4x100m relay'},\n",
       " 'Carl Lewis': {'100m', '200m', '4x100m relay', 'long jump'}}"
      ]
     },
     "execution_count": 13,
     "metadata": {},
     "output_type": "execute_result"
    }
   ],
   "source": [
    "for medal in medals:\n",
    "    events_by_athlete[medal.athlete].add(normalize(medal.event))\n",
    "{athlete: events for athlete, events in events_by_athlete.items() if len(events) >=4}    "
   ]
  },
  {
   "cell_type": "code",
   "execution_count": null,
   "metadata": {},
   "outputs": [],
   "source": []
  },
  {
   "cell_type": "code",
   "execution_count": null,
   "metadata": {},
   "outputs": [],
   "source": []
  }
 ],
 "metadata": {
  "kernelspec": {
   "display_name": "Python 3 (ipykernel)",
   "language": "python",
   "name": "python3"
  },
  "language_info": {
   "codemirror_mode": {
    "name": "ipython",
    "version": 3
   },
   "file_extension": ".py",
   "mimetype": "text/x-python",
   "name": "python",
   "nbconvert_exporter": "python",
   "pygments_lexer": "ipython3",
   "version": "3.8.8"
  }
 },
 "nbformat": 4,
 "nbformat_minor": 4
}
