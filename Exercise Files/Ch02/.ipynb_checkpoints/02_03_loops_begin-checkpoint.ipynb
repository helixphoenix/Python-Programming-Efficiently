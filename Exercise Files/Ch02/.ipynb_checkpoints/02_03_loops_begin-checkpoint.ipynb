{
 "cells": [
  {
   "cell_type": "markdown",
   "metadata": {},
   "source": [
    "## 02_03: Design efficient loops"
   ]
  },
  {
   "cell_type": "code",
   "execution_count": 2,
   "metadata": {},
   "outputs": [],
   "source": [
    "import numpy as np\n",
    "import matplotlib.pyplot as pp"
   ]
  },
  {
   "cell_type": "code",
   "execution_count": 3,
   "metadata": {},
   "outputs": [],
   "source": [
    "import geopy\n",
    "import cartopy"
   ]
  },
  {
   "cell_type": "code",
   "execution_count": 4,
   "metadata": {},
   "outputs": [
    {
     "name": "stdout",
     "output_type": "stream",
     "text": [
      "1\n",
      "1\n",
      "2\n",
      "3\n",
      "5\n",
      "8\n",
      "13\n",
      "21\n",
      "34\n",
      "55\n"
     ]
    }
   ],
   "source": [
    "for n in [1,1,2,3,5,8,13,21,34,55]:\n",
    "    print(n)"
   ]
  },
  {
   "cell_type": "code",
   "execution_count": 5,
   "metadata": {},
   "outputs": [
    {
     "name": "stdout",
     "output_type": "stream",
     "text": [
      "F\n",
      "i\n",
      "b\n",
      "o\n",
      "n\n",
      "a\n",
      "c\n",
      "c\n",
      "i\n"
     ]
    }
   ],
   "source": [
    "for l in \"Fibonacci\":\n",
    "    print(l)"
   ]
  },
  {
   "cell_type": "code",
   "execution_count": 6,
   "metadata": {},
   "outputs": [
    {
     "name": "stdout",
     "output_type": "stream",
     "text": [
      "F\n",
      "i\n",
      "b\n"
     ]
    },
    {
     "ename": "StopIteration",
     "evalue": "",
     "output_type": "error",
     "traceback": [
      "\u001b[0;31m---------------------------------------------------------------------------\u001b[0m",
      "\u001b[0;31mStopIteration\u001b[0m                             Traceback (most recent call last)",
      "Input \u001b[0;32mIn [6]\u001b[0m, in \u001b[0;36m<cell line: 5>\u001b[0;34m()\u001b[0m\n\u001b[1;32m      3\u001b[0m \u001b[38;5;28mprint\u001b[39m(it\u001b[38;5;241m.\u001b[39m\u001b[38;5;21m__next__\u001b[39m())\n\u001b[1;32m      4\u001b[0m \u001b[38;5;28mprint\u001b[39m(it\u001b[38;5;241m.\u001b[39m\u001b[38;5;21m__next__\u001b[39m())\n\u001b[0;32m----> 5\u001b[0m \u001b[38;5;28mprint\u001b[39m(\u001b[43mit\u001b[49m\u001b[38;5;241;43m.\u001b[39;49m\u001b[38;5;21;43m__next__\u001b[39;49m\u001b[43m(\u001b[49m\u001b[43m)\u001b[49m)\n",
      "\u001b[0;31mStopIteration\u001b[0m: "
     ]
    }
   ],
   "source": [
    "it = iter(\"Fib\")\n",
    "print(it.__next__())\n",
    "print(it.__next__())\n",
    "print(it.__next__())\n",
    "print(it.__next__())"
   ]
  },
  {
   "cell_type": "code",
   "execution_count": null,
   "metadata": {},
   "outputs": [],
   "source": [
    "for game in open('games.txt', 'r'):\n",
    "    print(game, end='')"
   ]
  },
  {
   "cell_type": "code",
   "execution_count": null,
   "metadata": {},
   "outputs": [],
   "source": [
    "for game in open('games.txt', 'r'):\n",
    "    city = game.split()[0]\n",
    "    year = game.split()[1]\n",
    "    \n",
    "    print(\"City:\", city, \"- year:\", year)"
   ]
  },
  {
   "cell_type": "code",
   "execution_count": null,
   "metadata": {},
   "outputs": [],
   "source": [
    "for game in open('games.txt', 'r'):\n",
    "    words = game.split()\n",
    "    \n",
    "    city = ' '.join(words[:-1])   # join all tokens but last one\n",
    "    year = words[-1].strip('()')  # last token, minus ()\n",
    "    \n",
    "    print(\"City:\", city, \"- year:\", year)"
   ]
  },
  {
   "cell_type": "code",
   "execution_count": null,
   "metadata": {},
   "outputs": [],
   "source": [
    "cities, years = [], []  # note \"tuple unrolling\" assignment  \n",
    "\n",
    "for game in open('games.txt', 'r'):\n",
    "    words = game.split()\n",
    "    \n",
    "    city = ' '.join(words[:-1])   # join all tokens but last one\n",
    "    year = words[-1].strip('()')  # last token, minus ()\n",
    "    \n",
    "    cities.append(city)\n",
    "    years.append(year)"
   ]
  },
  {
   "cell_type": "code",
   "execution_count": null,
   "metadata": {},
   "outputs": [],
   "source": [
    "# On a slow connection it may be necessary to give `Nominatim` a timeout parameter\n",
    "# higher than the default (for example, `timeout = 10`).\n",
    "\n",
    "geolocator = geopy.geocoders.Nominatim(user_agent='programming-efficiently')\n",
    "\n",
    "# the geopy documentation (https://geopy.readthedocs.io/en/stable/) describes all\n",
    "# the geocoding services that it wraps. Several require registrating and obtaining\n",
    "# an API key; at the time of recording this course, a API-key-free alternative to \n",
    "# Nominatim is ArcGIS:\n",
    "# \n",
    "# geolocator = geopy.geocoders.ArcGIS()"
   ]
  },
  {
   "cell_type": "code",
   "execution_count": null,
   "metadata": {},
   "outputs": [],
   "source": [
    "locations = {}\n",
    "\n",
    "for city in cities:\n",
    "    print(\"Locating\", city)\n",
    "\n",
    "    locations[city] = geolocator.geocode(city.split('/')[0])"
   ]
  },
  {
   "cell_type": "code",
   "execution_count": null,
   "metadata": {},
   "outputs": [],
   "source": [
    "locations['Rome']"
   ]
  },
  {
   "cell_type": "code",
   "execution_count": null,
   "metadata": {},
   "outputs": [],
   "source": [
    "locations['Paris']"
   ]
  },
  {
   "cell_type": "code",
   "execution_count": null,
   "metadata": {},
   "outputs": [],
   "source": [
    "locations['Paris'].latitude, locations['Paris'].longitude"
   ]
  },
  {
   "cell_type": "code",
   "execution_count": null,
   "metadata": {},
   "outputs": [],
   "source": [
    "pp.figure(figsize=(10,5))\n",
    "\n",
    "axes = pp.axes(projection=cartopy.crs.PlateCarree())\n",
    "\n",
    "axes.add_feature(cartopy.feature.COASTLINE, linewidth=0.5)\n",
    "axes.add_feature(cartopy.feature.BORDERS, linewidth=0.5)"
   ]
  },
  {
   "cell_type": "code",
   "execution_count": null,
   "metadata": {},
   "outputs": [],
   "source": [
    "pp.figure(figsize=(10,5))\n",
    "axes = pp.axes(projection=cartopy.crs.PlateCarree())\n",
    "axes.add_feature(cartopy.feature.COASTLINE, linewidth=0.5)\n",
    "axes.add_feature(cartopy.feature.BORDERS, linewidth=0.5)\n",
    "\n",
    "for pos in locations.values():\n",
    "    axes.plot(pos.longitude, pos.latitude, 'r.')"
   ]
  },
  {
   "cell_type": "code",
   "execution_count": null,
   "metadata": {},
   "outputs": [],
   "source": [
    "pp.figure(figsize=(10,5))\n",
    "axes = pp.axes(projection=cartopy.crs.PlateCarree())\n",
    "axes.add_feature(cartopy.feature.COASTLINE, linewidth=0.5)\n",
    "axes.add_feature(cartopy.feature.BORDERS, linewidth=0.5)\n",
    "\n",
    "for pos in locations.values():\n",
    "    axes.plot(pos.longitude, pos.latitude, 'r.')\n",
    "    \n",
    "pp.axis(xmin=-180,xmax=180,ymin=-90,ymax=90);"
   ]
  },
  {
   "cell_type": "code",
   "execution_count": null,
   "metadata": {},
   "outputs": [],
   "source": [
    "for i, city in enumerate(cities[:10]):\n",
    "    print(i, city)"
   ]
  },
  {
   "cell_type": "code",
   "execution_count": null,
   "metadata": {},
   "outputs": [],
   "source": [
    "for city in sorted(cities[:10]):\n",
    "    print(city)"
   ]
  },
  {
   "cell_type": "code",
   "execution_count": null,
   "metadata": {},
   "outputs": [],
   "source": [
    "for city in sorted(cities[:10], key=len):\n",
    "    print(city)"
   ]
  },
  {
   "cell_type": "code",
   "execution_count": null,
   "metadata": {},
   "outputs": [],
   "source": [
    "for i, city in enumerate(reversed(cities[:10])):\n",
    "    print(i, city)"
   ]
  },
  {
   "cell_type": "code",
   "execution_count": null,
   "metadata": {},
   "outputs": [],
   "source": [
    "for year, city in zip(years[:10], cities):\n",
    "    print(year,city)"
   ]
  },
  {
   "cell_type": "code",
   "execution_count": null,
   "metadata": {},
   "outputs": [],
   "source": [
    "import itertools"
   ]
  }
 ],
 "metadata": {
  "anaconda-cloud": {},
  "kernelspec": {
   "display_name": "Python 3 (ipykernel)",
   "language": "python",
   "name": "python3"
  },
  "language_info": {
   "codemirror_mode": {
    "name": "ipython",
    "version": 3
   },
   "file_extension": ".py",
   "mimetype": "text/x-python",
   "name": "python",
   "nbconvert_exporter": "python",
   "pygments_lexer": "ipython3",
   "version": "3.8.8"
  }
 },
 "nbformat": 4,
 "nbformat_minor": 1
}
