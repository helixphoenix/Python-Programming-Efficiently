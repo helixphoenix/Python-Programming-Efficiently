{
 "cells": [
  {
   "cell_type": "markdown",
   "metadata": {},
   "source": [
    "## 02_04: Comprehensions and generators"
   ]
  },
  {
   "cell_type": "code",
   "execution_count": 1,
   "metadata": {},
   "outputs": [],
   "source": [
    "import json"
   ]
  },
  {
   "cell_type": "code",
   "execution_count": 2,
   "metadata": {},
   "outputs": [],
   "source": [
    "import numpy as np\n",
    "import matplotlib.pyplot as pp"
   ]
  },
  {
   "cell_type": "code",
   "execution_count": 3,
   "metadata": {},
   "outputs": [],
   "source": [
    "import geopy\n",
    "import cartopy"
   ]
  },
  {
   "cell_type": "code",
   "execution_count": 4,
   "metadata": {},
   "outputs": [],
   "source": [
    "cities, years = [], []\n",
    "\n",
    "for game in open('games.txt', 'r'):\n",
    "    words = game.split()\n",
    "    \n",
    "    city = ' '.join(words[:-1])\n",
    "    year = words[-1].strip('()')\n",
    "\n",
    "    cities.append(city)\n",
    "    years.append(year)"
   ]
  },
  {
   "cell_type": "code",
   "execution_count": 5,
   "metadata": {},
   "outputs": [],
   "source": [
    "coordinates_by_city = json.load(open('coords.json', 'r'))"
   ]
  },
  {
   "cell_type": "code",
   "execution_count": 6,
   "metadata": {},
   "outputs": [
    {
     "data": {
      "text/plain": [
       "{'Athens': [23.7283052, 37.9839412],\n",
       " 'Paris': [2.3514616, 48.8566969],\n",
       " 'St Louis': [-90.1994097, 38.6268039],\n",
       " 'London': [-0.1276474, 51.5073219],\n",
       " 'Stockholm': [18.0710935, 59.3251172],\n",
       " 'Antwerp': [4.3997081, 51.2211097],\n",
       " 'Amsterdam': [4.897975505617977, 52.37454030000001],\n",
       " 'Los Angeles': [-118.2427666, 34.0536909],\n",
       " 'Berlin': [13.3888599, 52.5170365],\n",
       " 'Helsinki': [24.9425769, 60.1674098],\n",
       " 'Melbourne / Stockholm': [144.9631608, -37.8142176],\n",
       " 'Rome': [12.4829321, 41.8933203],\n",
       " 'Tokyo': [139.7594549, 35.6828387],\n",
       " 'Mexico': [-99.1331785, 19.4326296],\n",
       " 'Munich': [11.5753822, 48.1371079],\n",
       " 'Montreal': [-73.6103642, 45.4972159],\n",
       " 'Moscow': [37.6174943, 55.7504461],\n",
       " 'Seoul': [126.9782914, 37.5666791],\n",
       " 'Barcelona': [2.1774322, 41.3828939],\n",
       " 'Atlanta': [-84.3901849, 33.7490987],\n",
       " 'Sydney': [151.2164539, -33.8548157],\n",
       " 'Beijing': [116.3912757, 39.906217],\n",
       " 'Rio': [-43.2093727, -22.9110137]}"
      ]
     },
     "execution_count": 6,
     "metadata": {},
     "output_type": "execute_result"
    }
   ],
   "source": [
    "coordinates_by_city"
   ]
  },
  {
   "cell_type": "code",
   "execution_count": 7,
   "metadata": {},
   "outputs": [],
   "source": [
    "results = []\n",
    "\n",
    "for city, year in zip(cities, years):\n",
    "    # int() needed because otherwise year is a string\n",
    "    if int(year) > 1945:\n",
    "        results.append(city + ': ' + year)"
   ]
  },
  {
   "cell_type": "code",
   "execution_count": 8,
   "metadata": {},
   "outputs": [
    {
     "data": {
      "text/plain": [
       "['London: 1948',\n",
       " 'Helsinki: 1952',\n",
       " 'Melbourne / Stockholm: 1956',\n",
       " 'Rome: 1960',\n",
       " 'Tokyo: 1964',\n",
       " 'Mexico: 1968',\n",
       " 'Munich: 1972',\n",
       " 'Montreal: 1976',\n",
       " 'Moscow: 1980',\n",
       " 'Los Angeles: 1984']"
      ]
     },
     "execution_count": 8,
     "metadata": {},
     "output_type": "execute_result"
    }
   ],
   "source": [
    "results[:10]"
   ]
  },
  {
   "cell_type": "code",
   "execution_count": null,
   "metadata": {},
   "outputs": [],
   "source": [
    "# list comprehension:\n",
    "# [f(element) for element in iterator if condition(element)]\n",
    "\n",
    "results = [(city + ': ' + year)\n",
    "           for city, year in zip(cities, years)\n",
    "           if int(year) > 1945]"
   ]
  },
  {
   "cell_type": "code",
   "execution_count": null,
   "metadata": {},
   "outputs": [],
   "source": [
    "results = [(city + ': ' + year) for city, year in zip(cities, years) if int(year) > 1945]"
   ]
  },
  {
   "cell_type": "code",
   "execution_count": null,
   "metadata": {},
   "outputs": [],
   "source": [
    "results[:10]"
   ]
  },
  {
   "cell_type": "code",
   "execution_count": null,
   "metadata": {},
   "outputs": [],
   "source": [
    "cities_by_year = {year: city for city, year in zip(cities,years)}"
   ]
  },
  {
   "cell_type": "code",
   "execution_count": null,
   "metadata": {},
   "outputs": [],
   "source": [
    "cities_by_year"
   ]
  },
  {
   "cell_type": "code",
   "execution_count": null,
   "metadata": {},
   "outputs": [],
   "source": [
    "cities_after_1930 = {city for year, city in cities_by_year.items() if int(year) > 1930}"
   ]
  },
  {
   "cell_type": "code",
   "execution_count": null,
   "metadata": {},
   "outputs": [],
   "source": [
    "cities_after_1930"
   ]
  },
  {
   "cell_type": "code",
   "execution_count": null,
   "metadata": {},
   "outputs": [],
   "source": [
    "# start a large figure\n",
    "pp.figure(figsize=(10,10))\n",
    "\n",
    "# make the projection\n",
    "axes = pp.axes(projection=cartopy.crs.Orthographic(central_latitude=45, central_longitude=0))\n",
    "\n",
    "# add boundaries\n",
    "axes.add_feature(cartopy.feature.COASTLINE, linewidth=0.5)\n",
    "axes.add_feature(cartopy.feature.BORDERS, linewidth=0.5)"
   ]
  },
  {
   "cell_type": "code",
   "execution_count": null,
   "metadata": {},
   "outputs": [],
   "source": [
    "# start a large figure\n",
    "pp.figure(figsize=(10,10))\n",
    "\n",
    "# make the projection\n",
    "axes = pp.axes(projection=cartopy.crs.Orthographic(central_latitude=45, central_longitude=0))\n",
    "\n",
    "# add boundaries\n",
    "axes.add_feature(cartopy.feature.COASTLINE, linewidth=0.5)\n",
    "axes.add_feature(cartopy.feature.BORDERS, linewidth=0.5)\n",
    "\n",
    "for year, city in cities_by_year.items():        \n",
    "    lon, lat = coordinates_by_city[city]\n",
    "\n",
    "    # skip cities on the other side of the globe\n",
    "    if lon < 130:\n",
    "        # plot with cartopy coordinate system\n",
    "        axes.plot(lon, lat, 'r.', transform=cartopy.crs.Geodetic())\n",
    "        axes.text(lon, lat, year, transform=cartopy.crs.Geodetic())\n",
    "    \n",
    "axes.set_global()"
   ]
  },
  {
   "cell_type": "code",
   "execution_count": null,
   "metadata": {},
   "outputs": [],
   "source": [
    "sum(i**2 for i in range(20) if i % 2 == 0)"
   ]
  },
  {
   "cell_type": "code",
   "execution_count": null,
   "metadata": {},
   "outputs": [],
   "source": [
    "even = i**2 for i in range(20) if i % 2 == 0"
   ]
  },
  {
   "cell_type": "code",
   "execution_count": null,
   "metadata": {},
   "outputs": [],
   "source": [
    "even = (i**2 for i in range(20) if i % 2 == 0)"
   ]
  },
  {
   "cell_type": "code",
   "execution_count": null,
   "metadata": {},
   "outputs": [],
   "source": [
    "even"
   ]
  },
  {
   "cell_type": "code",
   "execution_count": null,
   "metadata": {},
   "outputs": [],
   "source": [
    "even.__next__()"
   ]
  },
  {
   "cell_type": "code",
   "execution_count": null,
   "metadata": {},
   "outputs": [],
   "source": [
    "even.__next__()"
   ]
  },
  {
   "cell_type": "code",
   "execution_count": null,
   "metadata": {},
   "outputs": [],
   "source": [
    "even.__next__()"
   ]
  },
  {
   "cell_type": "code",
   "execution_count": null,
   "metadata": {},
   "outputs": [],
   "source": [
    "def fibonacci():\n",
    "    print(\"Let's get set!\")\n",
    "    f1, f2 = 0, 1\n",
    "    \n",
    "    while True:\n",
    "        yield f2\n",
    "        \n",
    "        f1, f2 = f2, f1 + f2"
   ]
  },
  {
   "cell_type": "code",
   "execution_count": null,
   "metadata": {},
   "outputs": [],
   "source": [
    "f = fibonacci()"
   ]
  },
  {
   "cell_type": "code",
   "execution_count": null,
   "metadata": {},
   "outputs": [],
   "source": [
    "f"
   ]
  },
  {
   "cell_type": "code",
   "execution_count": null,
   "metadata": {},
   "outputs": [],
   "source": [
    "f.__next__()"
   ]
  },
  {
   "cell_type": "code",
   "execution_count": null,
   "metadata": {},
   "outputs": [],
   "source": [
    "f.__next__()"
   ]
  },
  {
   "cell_type": "code",
   "execution_count": null,
   "metadata": {},
   "outputs": [],
   "source": [
    "f.__next__()"
   ]
  },
  {
   "cell_type": "code",
   "execution_count": null,
   "metadata": {},
   "outputs": [],
   "source": [
    "f.__next__()"
   ]
  },
  {
   "cell_type": "code",
   "execution_count": null,
   "metadata": {},
   "outputs": [],
   "source": [
    "for x in fibonacci():\n",
    "    if x > 1000:\n",
    "        break\n",
    "    \n",
    "    print(x)"
   ]
  },
  {
   "cell_type": "code",
   "execution_count": null,
   "metadata": {},
   "outputs": [],
   "source": [
    "def fibonacci(fmax):\n",
    "    f1, f2 = 0, 1\n",
    "    \n",
    "    while True:\n",
    "        yield f2\n",
    "        \n",
    "        f1, f2 = f2, f1 + f2\n",
    "        \n",
    "        if f2 > fmax:\n",
    "            return"
   ]
  },
  {
   "cell_type": "code",
   "execution_count": null,
   "metadata": {},
   "outputs": [],
   "source": [
    "[x for x in fibonacci(1000)]"
   ]
  },
  {
   "cell_type": "code",
   "execution_count": null,
   "metadata": {},
   "outputs": [],
   "source": []
  }
 ],
 "metadata": {
  "anaconda-cloud": {},
  "kernelspec": {
   "display_name": "Python 3 (ipykernel)",
   "language": "python",
   "name": "python3"
  },
  "language_info": {
   "codemirror_mode": {
    "name": "ipython",
    "version": 3
   },
   "file_extension": ".py",
   "mimetype": "text/x-python",
   "name": "python",
   "nbconvert_exporter": "python",
   "pygments_lexer": "ipython3",
   "version": "3.8.8"
  }
 },
 "nbformat": 4,
 "nbformat_minor": 1
}
